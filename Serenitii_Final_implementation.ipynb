{
  "nbformat": 4,
  "nbformat_minor": 0,
  "metadata": {
    "colab": {
      "name": "Serenitii-Final_implementation.ipynb",
      "provenance": [],
      "collapsed_sections": [],
      "authorship_tag": "ABX9TyNkNqJwrD056YCCSAdJ4lzV",
      "include_colab_link": true
    },
    "kernelspec": {
      "name": "python3",
      "display_name": "Python 3"
    },
    "language_info": {
      "name": "python"
    }
  },
  "cells": [
    {
      "cell_type": "markdown",
      "metadata": {
        "id": "view-in-github",
        "colab_type": "text"
      },
      "source": [
        "<a href=\"https://colab.research.google.com/github/mahmoudiwalid/Sereniiti_final_model/blob/main/Serenitii_Final_implementation.ipynb\" target=\"_parent\"><img src=\"https://colab.research.google.com/assets/colab-badge.svg\" alt=\"Open In Colab\"/></a>"
      ]
    },
    {
      "cell_type": "code",
      "metadata": {
        "id": "GHo_C0JB4VFS"
      },
      "source": [
        "from google.colab import drive"
      ],
      "execution_count": 81,
      "outputs": []
    },
    {
      "cell_type": "code",
      "metadata": {
        "colab": {
          "base_uri": "https://localhost:8080/"
        },
        "id": "BW1wYXz36RkK",
        "outputId": "79856018-5f4b-4af6-873e-b91094bc5d78"
      },
      "source": [
        "drive.mount('/content/drive')"
      ],
      "execution_count": 82,
      "outputs": [
        {
          "output_type": "stream",
          "name": "stdout",
          "text": [
            "Drive already mounted at /content/drive; to attempt to forcibly remount, call drive.mount(\"/content/drive\", force_remount=True).\n"
          ]
        }
      ]
    },
    {
      "cell_type": "code",
      "metadata": {
        "colab": {
          "base_uri": "https://localhost:8080/"
        },
        "id": "t27LGwVC5zjV",
        "outputId": "9e985630-5f16-412c-b322-3dc1106a2a82"
      },
      "source": [
        "# download  the english language pipeline of spacy\n",
        "!python -m spacy download en_core_web_lg"
      ],
      "execution_count": 83,
      "outputs": [
        {
          "output_type": "stream",
          "name": "stdout",
          "text": [
            "Collecting en_core_web_lg==2.2.5\n",
            "  Downloading https://github.com/explosion/spacy-models/releases/download/en_core_web_lg-2.2.5/en_core_web_lg-2.2.5.tar.gz (827.9 MB)\n",
            "\u001b[K     |████████████████████████████████| 827.9 MB 4.1 MB/s \n",
            "\u001b[?25hRequirement already satisfied: spacy>=2.2.2 in /usr/local/lib/python3.7/dist-packages (from en_core_web_lg==2.2.5) (2.2.4)\n",
            "Requirement already satisfied: preshed<3.1.0,>=3.0.2 in /usr/local/lib/python3.7/dist-packages (from spacy>=2.2.2->en_core_web_lg==2.2.5) (3.0.6)\n",
            "Requirement already satisfied: thinc==7.4.0 in /usr/local/lib/python3.7/dist-packages (from spacy>=2.2.2->en_core_web_lg==2.2.5) (7.4.0)\n",
            "Requirement already satisfied: tqdm<5.0.0,>=4.38.0 in /usr/local/lib/python3.7/dist-packages (from spacy>=2.2.2->en_core_web_lg==2.2.5) (4.62.3)\n",
            "Requirement already satisfied: murmurhash<1.1.0,>=0.28.0 in /usr/local/lib/python3.7/dist-packages (from spacy>=2.2.2->en_core_web_lg==2.2.5) (1.0.6)\n",
            "Requirement already satisfied: requests<3.0.0,>=2.13.0 in /usr/local/lib/python3.7/dist-packages (from spacy>=2.2.2->en_core_web_lg==2.2.5) (2.23.0)\n",
            "Requirement already satisfied: srsly<1.1.0,>=1.0.2 in /usr/local/lib/python3.7/dist-packages (from spacy>=2.2.2->en_core_web_lg==2.2.5) (1.0.5)\n",
            "Requirement already satisfied: plac<1.2.0,>=0.9.6 in /usr/local/lib/python3.7/dist-packages (from spacy>=2.2.2->en_core_web_lg==2.2.5) (1.1.3)\n",
            "Requirement already satisfied: setuptools in /usr/local/lib/python3.7/dist-packages (from spacy>=2.2.2->en_core_web_lg==2.2.5) (57.4.0)\n",
            "Requirement already satisfied: numpy>=1.15.0 in /usr/local/lib/python3.7/dist-packages (from spacy>=2.2.2->en_core_web_lg==2.2.5) (1.19.5)\n",
            "Requirement already satisfied: catalogue<1.1.0,>=0.0.7 in /usr/local/lib/python3.7/dist-packages (from spacy>=2.2.2->en_core_web_lg==2.2.5) (1.0.0)\n",
            "Requirement already satisfied: blis<0.5.0,>=0.4.0 in /usr/local/lib/python3.7/dist-packages (from spacy>=2.2.2->en_core_web_lg==2.2.5) (0.4.1)\n",
            "Requirement already satisfied: cymem<2.1.0,>=2.0.2 in /usr/local/lib/python3.7/dist-packages (from spacy>=2.2.2->en_core_web_lg==2.2.5) (2.0.6)\n",
            "Requirement already satisfied: wasabi<1.1.0,>=0.4.0 in /usr/local/lib/python3.7/dist-packages (from spacy>=2.2.2->en_core_web_lg==2.2.5) (0.8.2)\n",
            "Requirement already satisfied: importlib-metadata>=0.20 in /usr/local/lib/python3.7/dist-packages (from catalogue<1.1.0,>=0.0.7->spacy>=2.2.2->en_core_web_lg==2.2.5) (4.8.2)\n",
            "Requirement already satisfied: zipp>=0.5 in /usr/local/lib/python3.7/dist-packages (from importlib-metadata>=0.20->catalogue<1.1.0,>=0.0.7->spacy>=2.2.2->en_core_web_lg==2.2.5) (3.6.0)\n",
            "Requirement already satisfied: typing-extensions>=3.6.4 in /usr/local/lib/python3.7/dist-packages (from importlib-metadata>=0.20->catalogue<1.1.0,>=0.0.7->spacy>=2.2.2->en_core_web_lg==2.2.5) (3.10.0.2)\n",
            "Requirement already satisfied: urllib3!=1.25.0,!=1.25.1,<1.26,>=1.21.1 in /usr/local/lib/python3.7/dist-packages (from requests<3.0.0,>=2.13.0->spacy>=2.2.2->en_core_web_lg==2.2.5) (1.24.3)\n",
            "Requirement already satisfied: certifi>=2017.4.17 in /usr/local/lib/python3.7/dist-packages (from requests<3.0.0,>=2.13.0->spacy>=2.2.2->en_core_web_lg==2.2.5) (2021.10.8)\n",
            "Requirement already satisfied: idna<3,>=2.5 in /usr/local/lib/python3.7/dist-packages (from requests<3.0.0,>=2.13.0->spacy>=2.2.2->en_core_web_lg==2.2.5) (2.10)\n",
            "Requirement already satisfied: chardet<4,>=3.0.2 in /usr/local/lib/python3.7/dist-packages (from requests<3.0.0,>=2.13.0->spacy>=2.2.2->en_core_web_lg==2.2.5) (3.0.4)\n",
            "\u001b[38;5;2m✔ Download and installation successful\u001b[0m\n",
            "You can now load the model via spacy.load('en_core_web_lg')\n"
          ]
        }
      ]
    },
    {
      "cell_type": "code",
      "metadata": {
        "id": "d0nwIvDbnJ-y"
      },
      "source": [
        "import spacy\n",
        "import en_core_web_lg\n",
        "nlp = spacy.load('en_core_web_lg')"
      ],
      "execution_count": 1,
      "outputs": []
    },
    {
      "cell_type": "code",
      "metadata": {
        "id": "uLNVSgmopWnX"
      },
      "source": [
        "import pandas as pd"
      ],
      "execution_count": 4,
      "outputs": []
    },
    {
      "cell_type": "code",
      "metadata": {
        "colab": {
          "base_uri": "https://localhost:8080/",
          "height": 504
        },
        "id": "EAPs3EJKpWtg",
        "outputId": "80dd786a-367e-4285-d107-04973faf6dff"
      },
      "source": [
        "df = pd.read_csv('/content/drive/MyDrive/Sereniiti/Training_data_sentences.csv', encoding= 'unicode_escape',)\n",
        "df"
      ],
      "execution_count": 5,
      "outputs": [
        {
          "output_type": "execute_result",
          "data": {
            "text/html": [
              "<div>\n",
              "<style scoped>\n",
              "    .dataframe tbody tr th:only-of-type {\n",
              "        vertical-align: middle;\n",
              "    }\n",
              "\n",
              "    .dataframe tbody tr th {\n",
              "        vertical-align: top;\n",
              "    }\n",
              "\n",
              "    .dataframe thead th {\n",
              "        text-align: right;\n",
              "    }\n",
              "</style>\n",
              "<table border=\"1\" class=\"dataframe\">\n",
              "  <thead>\n",
              "    <tr style=\"text-align: right;\">\n",
              "      <th></th>\n",
              "      <th>main_id_pk</th>\n",
              "      <th>text_en</th>\n",
              "      <th>text_fr</th>\n",
              "      <th>rating_id_fk</th>\n",
              "      <th>step_id_fk</th>\n",
              "      <th>tips_id_fk</th>\n",
              "      <th>Alert</th>\n",
              "      <th>Comment</th>\n",
              "      <th>Unnamed: 8</th>\n",
              "    </tr>\n",
              "  </thead>\n",
              "  <tbody>\n",
              "    <tr>\n",
              "      <th>0</th>\n",
              "      <td>1.0</td>\n",
              "      <td>60,000 sperms, and you won?</td>\n",
              "      <td>60 000 spermatozoïdes, et tu as gagné ?</td>\n",
              "      <td>0.0</td>\n",
              "      <td>facts</td>\n",
              "      <td>NaN</td>\n",
              "      <td>NaN</td>\n",
              "      <td>NaN</td>\n",
              "      <td>NaN</td>\n",
              "    </tr>\n",
              "    <tr>\n",
              "      <th>1</th>\n",
              "      <td>2.0</td>\n",
              "      <td>A 2014 study examined the effects of combined ...</td>\n",
              "      <td>Une étude de 2014 a examiné les effets d'une f...</td>\n",
              "      <td>4.0</td>\n",
              "      <td>facts</td>\n",
              "      <td>factual</td>\n",
              "      <td>NaN</td>\n",
              "      <td>NaN</td>\n",
              "      <td>NaN</td>\n",
              "    </tr>\n",
              "    <tr>\n",
              "      <th>2</th>\n",
              "      <td>3.0</td>\n",
              "      <td>A big guy like you needs to stand up for himself!</td>\n",
              "      <td>Un grand gars comme toi doit savoir se défendre!</td>\n",
              "      <td>1.0</td>\n",
              "      <td>facts</td>\n",
              "      <td>NaN</td>\n",
              "      <td>NaN</td>\n",
              "      <td>NaN</td>\n",
              "      <td>NaN</td>\n",
              "    </tr>\n",
              "    <tr>\n",
              "      <th>3</th>\n",
              "      <td>4.0</td>\n",
              "      <td>A cheetah, the fastest land animal, can run 70...</td>\n",
              "      <td>Un guépard, l'animal terrestre le plus rapide,...</td>\n",
              "      <td>4.0</td>\n",
              "      <td>facts</td>\n",
              "      <td>factual</td>\n",
              "      <td>NaN</td>\n",
              "      <td>NaN</td>\n",
              "      <td>NaN</td>\n",
              "    </tr>\n",
              "    <tr>\n",
              "      <th>4</th>\n",
              "      <td>5.0</td>\n",
              "      <td>A combination of words that makes sense is cal...</td>\n",
              "      <td>Une combinaison de mots qui a un sens complet ...</td>\n",
              "      <td>4.0</td>\n",
              "      <td>facts</td>\n",
              "      <td>factual</td>\n",
              "      <td>NaN</td>\n",
              "      <td>NaN</td>\n",
              "      <td>NaN</td>\n",
              "    </tr>\n",
              "    <tr>\n",
              "      <th>...</th>\n",
              "      <td>...</td>\n",
              "      <td>...</td>\n",
              "      <td>...</td>\n",
              "      <td>...</td>\n",
              "      <td>...</td>\n",
              "      <td>...</td>\n",
              "      <td>...</td>\n",
              "      <td>...</td>\n",
              "      <td>...</td>\n",
              "    </tr>\n",
              "    <tr>\n",
              "      <th>11359</th>\n",
              "      <td>NaN</td>\n",
              "      <td>NaN</td>\n",
              "      <td>NaN</td>\n",
              "      <td>NaN</td>\n",
              "      <td>NaN</td>\n",
              "      <td>NaN</td>\n",
              "      <td>NaN</td>\n",
              "      <td>NaN</td>\n",
              "      <td>NaN</td>\n",
              "    </tr>\n",
              "    <tr>\n",
              "      <th>11360</th>\n",
              "      <td>NaN</td>\n",
              "      <td>NaN</td>\n",
              "      <td>NaN</td>\n",
              "      <td>NaN</td>\n",
              "      <td>NaN</td>\n",
              "      <td>NaN</td>\n",
              "      <td>NaN</td>\n",
              "      <td>NaN</td>\n",
              "      <td>NaN</td>\n",
              "    </tr>\n",
              "    <tr>\n",
              "      <th>11361</th>\n",
              "      <td>NaN</td>\n",
              "      <td>NaN</td>\n",
              "      <td>NaN</td>\n",
              "      <td>NaN</td>\n",
              "      <td>NaN</td>\n",
              "      <td>NaN</td>\n",
              "      <td>NaN</td>\n",
              "      <td>NaN</td>\n",
              "      <td>NaN</td>\n",
              "    </tr>\n",
              "    <tr>\n",
              "      <th>11362</th>\n",
              "      <td>NaN</td>\n",
              "      <td>NaN</td>\n",
              "      <td>NaN</td>\n",
              "      <td>NaN</td>\n",
              "      <td>NaN</td>\n",
              "      <td>NaN</td>\n",
              "      <td>NaN</td>\n",
              "      <td>NaN</td>\n",
              "      <td>NaN</td>\n",
              "    </tr>\n",
              "    <tr>\n",
              "      <th>11363</th>\n",
              "      <td>NaN</td>\n",
              "      <td>NaN</td>\n",
              "      <td>NaN</td>\n",
              "      <td>NaN</td>\n",
              "      <td>NaN</td>\n",
              "      <td>NaN</td>\n",
              "      <td>NaN</td>\n",
              "      <td>NaN</td>\n",
              "      <td>NaN</td>\n",
              "    </tr>\n",
              "  </tbody>\n",
              "</table>\n",
              "<p>11364 rows × 9 columns</p>\n",
              "</div>"
            ],
            "text/plain": [
              "       main_id_pk  ... Unnamed: 8\n",
              "0             1.0  ...        NaN\n",
              "1             2.0  ...        NaN\n",
              "2             3.0  ...        NaN\n",
              "3             4.0  ...        NaN\n",
              "4             5.0  ...        NaN\n",
              "...           ...  ...        ...\n",
              "11359         NaN  ...        NaN\n",
              "11360         NaN  ...        NaN\n",
              "11361         NaN  ...        NaN\n",
              "11362         NaN  ...        NaN\n",
              "11363         NaN  ...        NaN\n",
              "\n",
              "[11364 rows x 9 columns]"
            ]
          },
          "metadata": {},
          "execution_count": 5
        }
      ]
    },
    {
      "cell_type": "code",
      "metadata": {
        "colab": {
          "base_uri": "https://localhost:8080/",
          "height": 419
        },
        "id": "J5o76__hpWwP",
        "outputId": "889fe43a-84e3-487b-8164-3904e7765990"
      },
      "source": [
        "#store only \"english test\" and its \"rating\" column\n",
        "df = df.loc[:,['text_en','rating_id_fk']]\n",
        "#remove missing value NaN \n",
        "df = df.dropna(subset=['text_en', 'rating_id_fk'])\n",
        "#convert the rating \"rating_id_fk\" from float to integer\n",
        "df['rating_id_fk']=df['rating_id_fk'].astype(int)\n",
        "# rename the columns\n",
        "df = df.rename(columns={'text_en': 'text','rating_id_fk': 'rating'})\n",
        "df"
      ],
      "execution_count": 6,
      "outputs": [
        {
          "output_type": "execute_result",
          "data": {
            "text/html": [
              "<div>\n",
              "<style scoped>\n",
              "    .dataframe tbody tr th:only-of-type {\n",
              "        vertical-align: middle;\n",
              "    }\n",
              "\n",
              "    .dataframe tbody tr th {\n",
              "        vertical-align: top;\n",
              "    }\n",
              "\n",
              "    .dataframe thead th {\n",
              "        text-align: right;\n",
              "    }\n",
              "</style>\n",
              "<table border=\"1\" class=\"dataframe\">\n",
              "  <thead>\n",
              "    <tr style=\"text-align: right;\">\n",
              "      <th></th>\n",
              "      <th>text</th>\n",
              "      <th>rating</th>\n",
              "    </tr>\n",
              "  </thead>\n",
              "  <tbody>\n",
              "    <tr>\n",
              "      <th>0</th>\n",
              "      <td>60,000 sperms, and you won?</td>\n",
              "      <td>0</td>\n",
              "    </tr>\n",
              "    <tr>\n",
              "      <th>1</th>\n",
              "      <td>A 2014 study examined the effects of combined ...</td>\n",
              "      <td>4</td>\n",
              "    </tr>\n",
              "    <tr>\n",
              "      <th>2</th>\n",
              "      <td>A big guy like you needs to stand up for himself!</td>\n",
              "      <td>1</td>\n",
              "    </tr>\n",
              "    <tr>\n",
              "      <th>3</th>\n",
              "      <td>A cheetah, the fastest land animal, can run 70...</td>\n",
              "      <td>4</td>\n",
              "    </tr>\n",
              "    <tr>\n",
              "      <th>4</th>\n",
              "      <td>A combination of words that makes sense is cal...</td>\n",
              "      <td>4</td>\n",
              "    </tr>\n",
              "    <tr>\n",
              "      <th>...</th>\n",
              "      <td>...</td>\n",
              "      <td>...</td>\n",
              "    </tr>\n",
              "    <tr>\n",
              "      <th>10988</th>\n",
              "      <td>Your voice is my favorite sound</td>\n",
              "      <td>4</td>\n",
              "    </tr>\n",
              "    <tr>\n",
              "      <th>10989</th>\n",
              "      <td>Your words are completely beyond your thoughts</td>\n",
              "      <td>1</td>\n",
              "    </tr>\n",
              "    <tr>\n",
              "      <th>10990</th>\n",
              "      <td>Your words are unacceptable, Camille! I always...</td>\n",
              "      <td>2</td>\n",
              "    </tr>\n",
              "    <tr>\n",
              "      <th>10991</th>\n",
              "      <td>Your work reflects your dedication to the proj...</td>\n",
              "      <td>4</td>\n",
              "    </tr>\n",
              "    <tr>\n",
              "      <th>10992</th>\n",
              "      <td>Zombies eat brains. Youre safe.</td>\n",
              "      <td>0</td>\n",
              "    </tr>\n",
              "  </tbody>\n",
              "</table>\n",
              "<p>10993 rows × 2 columns</p>\n",
              "</div>"
            ],
            "text/plain": [
              "                                                    text  rating\n",
              "0                            60,000 sperms, and you won?       0\n",
              "1      A 2014 study examined the effects of combined ...       4\n",
              "2      A big guy like you needs to stand up for himself!       1\n",
              "3      A cheetah, the fastest land animal, can run 70...       4\n",
              "4      A combination of words that makes sense is cal...       4\n",
              "...                                                  ...     ...\n",
              "10988                    Your voice is my favorite sound       4\n",
              "10989     Your words are completely beyond your thoughts       1\n",
              "10990  Your words are unacceptable, Camille! I always...       2\n",
              "10991  Your work reflects your dedication to the proj...       4\n",
              "10992                   Zombies eat brains. Youre safe.       0\n",
              "\n",
              "[10993 rows x 2 columns]"
            ]
          },
          "metadata": {},
          "execution_count": 6
        }
      ]
    },
    {
      "cell_type": "code",
      "metadata": {
        "id": "nPSDEMS3pW1w"
      },
      "source": [
        "import re\n",
        "import string\n",
        "def get_clean(text):\n",
        "\n",
        "  '''\n",
        "  This is a cleaning test function\n",
        "  To remove the punctuations\n",
        "  will consider only alphabets and numerics\n",
        "  will replace newline with space\n",
        "  will convert to lower case\n",
        "  will split and join the words\n",
        "  '''\n",
        "  text=re.sub('<.*?>', ' ', text)  \n",
        "  #text = text.translate(str.maketrans(' ',' ',string.punctuation))\n",
        "  text = re.sub('[^a-zA-Z]',' ',text)  \n",
        "  text = re.sub(\"\\n\",\" \",text)\n",
        "  text = text.lower()\n",
        "  text=' '.join(text.split())\n",
        "  return text"
      ],
      "execution_count": 51,
      "outputs": []
    },
    {
      "cell_type": "code",
      "metadata": {
        "colab": {
          "base_uri": "https://localhost:8080/",
          "height": 419
        },
        "id": "-GZcOOkspW65",
        "outputId": "d3bb1cd5-d464-45ad-d55b-b7f0dd0f9977"
      },
      "source": [
        "#apply the function \"get clean\" to the data \n",
        "df['text'] = df['text'].apply(get_clean)\n",
        "df"
      ],
      "execution_count": 8,
      "outputs": [
        {
          "output_type": "execute_result",
          "data": {
            "text/html": [
              "<div>\n",
              "<style scoped>\n",
              "    .dataframe tbody tr th:only-of-type {\n",
              "        vertical-align: middle;\n",
              "    }\n",
              "\n",
              "    .dataframe tbody tr th {\n",
              "        vertical-align: top;\n",
              "    }\n",
              "\n",
              "    .dataframe thead th {\n",
              "        text-align: right;\n",
              "    }\n",
              "</style>\n",
              "<table border=\"1\" class=\"dataframe\">\n",
              "  <thead>\n",
              "    <tr style=\"text-align: right;\">\n",
              "      <th></th>\n",
              "      <th>text</th>\n",
              "      <th>rating</th>\n",
              "    </tr>\n",
              "  </thead>\n",
              "  <tbody>\n",
              "    <tr>\n",
              "      <th>0</th>\n",
              "      <td>sperms and you won</td>\n",
              "      <td>0</td>\n",
              "    </tr>\n",
              "    <tr>\n",
              "      <th>1</th>\n",
              "      <td>a study examined the effects of combined nvc a...</td>\n",
              "      <td>4</td>\n",
              "    </tr>\n",
              "    <tr>\n",
              "      <th>2</th>\n",
              "      <td>a big guy like you needs to stand up for himself</td>\n",
              "      <td>1</td>\n",
              "    </tr>\n",
              "    <tr>\n",
              "      <th>3</th>\n",
              "      <td>a cheetah the fastest land animal can run mile...</td>\n",
              "      <td>4</td>\n",
              "    </tr>\n",
              "    <tr>\n",
              "      <th>4</th>\n",
              "      <td>a combination of words that makes sense is cal...</td>\n",
              "      <td>4</td>\n",
              "    </tr>\n",
              "    <tr>\n",
              "      <th>...</th>\n",
              "      <td>...</td>\n",
              "      <td>...</td>\n",
              "    </tr>\n",
              "    <tr>\n",
              "      <th>10988</th>\n",
              "      <td>your voice is my favorite sound</td>\n",
              "      <td>4</td>\n",
              "    </tr>\n",
              "    <tr>\n",
              "      <th>10989</th>\n",
              "      <td>your words are completely beyond your thoughts</td>\n",
              "      <td>1</td>\n",
              "    </tr>\n",
              "    <tr>\n",
              "      <th>10990</th>\n",
              "      <td>your words are unacceptable camille i always t...</td>\n",
              "      <td>2</td>\n",
              "    </tr>\n",
              "    <tr>\n",
              "      <th>10991</th>\n",
              "      <td>your work reflects your dedication to the proj...</td>\n",
              "      <td>4</td>\n",
              "    </tr>\n",
              "    <tr>\n",
              "      <th>10992</th>\n",
              "      <td>zombies eat brains you re safe</td>\n",
              "      <td>0</td>\n",
              "    </tr>\n",
              "  </tbody>\n",
              "</table>\n",
              "<p>10993 rows × 2 columns</p>\n",
              "</div>"
            ],
            "text/plain": [
              "                                                    text  rating\n",
              "0                                     sperms and you won       0\n",
              "1      a study examined the effects of combined nvc a...       4\n",
              "2       a big guy like you needs to stand up for himself       1\n",
              "3      a cheetah the fastest land animal can run mile...       4\n",
              "4      a combination of words that makes sense is cal...       4\n",
              "...                                                  ...     ...\n",
              "10988                    your voice is my favorite sound       4\n",
              "10989     your words are completely beyond your thoughts       1\n",
              "10990  your words are unacceptable camille i always t...       2\n",
              "10991  your work reflects your dedication to the proj...       4\n",
              "10992                     zombies eat brains you re safe       0\n",
              "\n",
              "[10993 rows x 2 columns]"
            ]
          },
          "metadata": {},
          "execution_count": 8
        }
      ]
    },
    {
      "cell_type": "code",
      "metadata": {
        "colab": {
          "base_uri": "https://localhost:8080/",
          "height": 419
        },
        "id": "vUdJeq79pW9n",
        "outputId": "5381524d-10c8-47bf-cb2c-efd2ed63b07b"
      },
      "source": [
        "# labelling the data into 2 categories Bad {0, 1, 2 } --> 0 / Good {3, 4, 5, 6} --> 1\n",
        "label = {0:0 , 1:0 ,2:0, 3:1 , 4:1 , 5:1 , 6:1}\n",
        "df['label']=df['rating'].map(label)\n",
        "df"
      ],
      "execution_count": 9,
      "outputs": [
        {
          "output_type": "execute_result",
          "data": {
            "text/html": [
              "<div>\n",
              "<style scoped>\n",
              "    .dataframe tbody tr th:only-of-type {\n",
              "        vertical-align: middle;\n",
              "    }\n",
              "\n",
              "    .dataframe tbody tr th {\n",
              "        vertical-align: top;\n",
              "    }\n",
              "\n",
              "    .dataframe thead th {\n",
              "        text-align: right;\n",
              "    }\n",
              "</style>\n",
              "<table border=\"1\" class=\"dataframe\">\n",
              "  <thead>\n",
              "    <tr style=\"text-align: right;\">\n",
              "      <th></th>\n",
              "      <th>text</th>\n",
              "      <th>rating</th>\n",
              "      <th>label</th>\n",
              "    </tr>\n",
              "  </thead>\n",
              "  <tbody>\n",
              "    <tr>\n",
              "      <th>0</th>\n",
              "      <td>sperms and you won</td>\n",
              "      <td>0</td>\n",
              "      <td>0</td>\n",
              "    </tr>\n",
              "    <tr>\n",
              "      <th>1</th>\n",
              "      <td>a study examined the effects of combined nvc a...</td>\n",
              "      <td>4</td>\n",
              "      <td>1</td>\n",
              "    </tr>\n",
              "    <tr>\n",
              "      <th>2</th>\n",
              "      <td>a big guy like you needs to stand up for himself</td>\n",
              "      <td>1</td>\n",
              "      <td>0</td>\n",
              "    </tr>\n",
              "    <tr>\n",
              "      <th>3</th>\n",
              "      <td>a cheetah the fastest land animal can run mile...</td>\n",
              "      <td>4</td>\n",
              "      <td>1</td>\n",
              "    </tr>\n",
              "    <tr>\n",
              "      <th>4</th>\n",
              "      <td>a combination of words that makes sense is cal...</td>\n",
              "      <td>4</td>\n",
              "      <td>1</td>\n",
              "    </tr>\n",
              "    <tr>\n",
              "      <th>...</th>\n",
              "      <td>...</td>\n",
              "      <td>...</td>\n",
              "      <td>...</td>\n",
              "    </tr>\n",
              "    <tr>\n",
              "      <th>10988</th>\n",
              "      <td>your voice is my favorite sound</td>\n",
              "      <td>4</td>\n",
              "      <td>1</td>\n",
              "    </tr>\n",
              "    <tr>\n",
              "      <th>10989</th>\n",
              "      <td>your words are completely beyond your thoughts</td>\n",
              "      <td>1</td>\n",
              "      <td>0</td>\n",
              "    </tr>\n",
              "    <tr>\n",
              "      <th>10990</th>\n",
              "      <td>your words are unacceptable camille i always t...</td>\n",
              "      <td>2</td>\n",
              "      <td>0</td>\n",
              "    </tr>\n",
              "    <tr>\n",
              "      <th>10991</th>\n",
              "      <td>your work reflects your dedication to the proj...</td>\n",
              "      <td>4</td>\n",
              "      <td>1</td>\n",
              "    </tr>\n",
              "    <tr>\n",
              "      <th>10992</th>\n",
              "      <td>zombies eat brains you re safe</td>\n",
              "      <td>0</td>\n",
              "      <td>0</td>\n",
              "    </tr>\n",
              "  </tbody>\n",
              "</table>\n",
              "<p>10993 rows × 3 columns</p>\n",
              "</div>"
            ],
            "text/plain": [
              "                                                    text  rating  label\n",
              "0                                     sperms and you won       0      0\n",
              "1      a study examined the effects of combined nvc a...       4      1\n",
              "2       a big guy like you needs to stand up for himself       1      0\n",
              "3      a cheetah the fastest land animal can run mile...       4      1\n",
              "4      a combination of words that makes sense is cal...       4      1\n",
              "...                                                  ...     ...    ...\n",
              "10988                    your voice is my favorite sound       4      1\n",
              "10989     your words are completely beyond your thoughts       1      0\n",
              "10990  your words are unacceptable camille i always t...       2      0\n",
              "10991  your work reflects your dedication to the proj...       4      1\n",
              "10992                     zombies eat brains you re safe       0      0\n",
              "\n",
              "[10993 rows x 3 columns]"
            ]
          },
          "metadata": {},
          "execution_count": 9
        }
      ]
    },
    {
      "cell_type": "markdown",
      "metadata": {
        "id": "_g4gAUottjbQ"
      },
      "source": [
        "#Tokonization"
      ]
    },
    {
      "cell_type": "code",
      "metadata": {
        "id": "BNtktDAWpXAX"
      },
      "source": [
        "def nlp_pipeline (x):\n",
        "  '''\n",
        "  define a pipeline function to tokenize the data\n",
        "  '''\n",
        "  doc = nlp(x)\n",
        "  return doc"
      ],
      "execution_count": 10,
      "outputs": []
    },
    {
      "cell_type": "code",
      "metadata": {
        "colab": {
          "base_uri": "https://localhost:8080/",
          "height": 419
        },
        "id": "BUvdV190pXDd",
        "outputId": "575f5142-f114-4868-c1d1-7b20a970b91b"
      },
      "source": [
        "# apply the pipeline function for the hole dataset and store it in new column called 'pipeline'\n",
        "df['pipeline'] = df['text'].apply(nlp_pipeline)\n",
        "df"
      ],
      "execution_count": 11,
      "outputs": [
        {
          "output_type": "execute_result",
          "data": {
            "text/html": [
              "<div>\n",
              "<style scoped>\n",
              "    .dataframe tbody tr th:only-of-type {\n",
              "        vertical-align: middle;\n",
              "    }\n",
              "\n",
              "    .dataframe tbody tr th {\n",
              "        vertical-align: top;\n",
              "    }\n",
              "\n",
              "    .dataframe thead th {\n",
              "        text-align: right;\n",
              "    }\n",
              "</style>\n",
              "<table border=\"1\" class=\"dataframe\">\n",
              "  <thead>\n",
              "    <tr style=\"text-align: right;\">\n",
              "      <th></th>\n",
              "      <th>text</th>\n",
              "      <th>rating</th>\n",
              "      <th>label</th>\n",
              "      <th>pipeline</th>\n",
              "    </tr>\n",
              "  </thead>\n",
              "  <tbody>\n",
              "    <tr>\n",
              "      <th>0</th>\n",
              "      <td>sperms and you won</td>\n",
              "      <td>0</td>\n",
              "      <td>0</td>\n",
              "      <td>(sperms, and, you, won)</td>\n",
              "    </tr>\n",
              "    <tr>\n",
              "      <th>1</th>\n",
              "      <td>a study examined the effects of combined nvc a...</td>\n",
              "      <td>4</td>\n",
              "      <td>1</td>\n",
              "      <td>(a, study, examined, the, effects, of, combine...</td>\n",
              "    </tr>\n",
              "    <tr>\n",
              "      <th>2</th>\n",
              "      <td>a big guy like you needs to stand up for himself</td>\n",
              "      <td>1</td>\n",
              "      <td>0</td>\n",
              "      <td>(a, big, guy, like, you, needs, to, stand, up,...</td>\n",
              "    </tr>\n",
              "    <tr>\n",
              "      <th>3</th>\n",
              "      <td>a cheetah the fastest land animal can run mile...</td>\n",
              "      <td>4</td>\n",
              "      <td>1</td>\n",
              "      <td>(a, cheetah, the, fastest, land, animal, can, ...</td>\n",
              "    </tr>\n",
              "    <tr>\n",
              "      <th>4</th>\n",
              "      <td>a combination of words that makes sense is cal...</td>\n",
              "      <td>4</td>\n",
              "      <td>1</td>\n",
              "      <td>(a, combination, of, words, that, makes, sense...</td>\n",
              "    </tr>\n",
              "    <tr>\n",
              "      <th>...</th>\n",
              "      <td>...</td>\n",
              "      <td>...</td>\n",
              "      <td>...</td>\n",
              "      <td>...</td>\n",
              "    </tr>\n",
              "    <tr>\n",
              "      <th>10988</th>\n",
              "      <td>your voice is my favorite sound</td>\n",
              "      <td>4</td>\n",
              "      <td>1</td>\n",
              "      <td>(your, voice, is, my, favorite, sound)</td>\n",
              "    </tr>\n",
              "    <tr>\n",
              "      <th>10989</th>\n",
              "      <td>your words are completely beyond your thoughts</td>\n",
              "      <td>1</td>\n",
              "      <td>0</td>\n",
              "      <td>(your, words, are, completely, beyond, your, t...</td>\n",
              "    </tr>\n",
              "    <tr>\n",
              "      <th>10990</th>\n",
              "      <td>your words are unacceptable camille i always t...</td>\n",
              "      <td>2</td>\n",
              "      <td>0</td>\n",
              "      <td>(your, words, are, unacceptable, camille, i, a...</td>\n",
              "    </tr>\n",
              "    <tr>\n",
              "      <th>10991</th>\n",
              "      <td>your work reflects your dedication to the proj...</td>\n",
              "      <td>4</td>\n",
              "      <td>1</td>\n",
              "      <td>(your, work, reflects, your, dedication, to, t...</td>\n",
              "    </tr>\n",
              "    <tr>\n",
              "      <th>10992</th>\n",
              "      <td>zombies eat brains you re safe</td>\n",
              "      <td>0</td>\n",
              "      <td>0</td>\n",
              "      <td>(zombies, eat, brains, you, re, safe)</td>\n",
              "    </tr>\n",
              "  </tbody>\n",
              "</table>\n",
              "<p>10993 rows × 4 columns</p>\n",
              "</div>"
            ],
            "text/plain": [
              "                                                    text  ...                                           pipeline\n",
              "0                                     sperms and you won  ...                            (sperms, and, you, won)\n",
              "1      a study examined the effects of combined nvc a...  ...  (a, study, examined, the, effects, of, combine...\n",
              "2       a big guy like you needs to stand up for himself  ...  (a, big, guy, like, you, needs, to, stand, up,...\n",
              "3      a cheetah the fastest land animal can run mile...  ...  (a, cheetah, the, fastest, land, animal, can, ...\n",
              "4      a combination of words that makes sense is cal...  ...  (a, combination, of, words, that, makes, sense...\n",
              "...                                                  ...  ...                                                ...\n",
              "10988                    your voice is my favorite sound  ...             (your, voice, is, my, favorite, sound)\n",
              "10989     your words are completely beyond your thoughts  ...  (your, words, are, completely, beyond, your, t...\n",
              "10990  your words are unacceptable camille i always t...  ...  (your, words, are, unacceptable, camille, i, a...\n",
              "10991  your work reflects your dedication to the proj...  ...  (your, work, reflects, your, dedication, to, t...\n",
              "10992                     zombies eat brains you re safe  ...              (zombies, eat, brains, you, re, safe)\n",
              "\n",
              "[10993 rows x 4 columns]"
            ]
          },
          "metadata": {},
          "execution_count": 11
        }
      ]
    },
    {
      "cell_type": "code",
      "metadata": {
        "id": "05-y0Xq1rqEz"
      },
      "source": [
        "#Example\n",
        "#doc = nlp(\"Apple is looking at buying U.K startup for $1 billion\")\n",
        "#for token in doc:\n",
        "  #print(token.text)"
      ],
      "execution_count": null,
      "outputs": []
    },
    {
      "cell_type": "code",
      "metadata": {
        "id": "R3vL9bG4tzcA"
      },
      "source": [
        "#for token in doc:\n",
        "  #print(token.text, token.lemma_)"
      ],
      "execution_count": null,
      "outputs": []
    },
    {
      "cell_type": "code",
      "metadata": {
        "id": "PdVtfP4wuHhX"
      },
      "source": [
        "#for chunk in doc.noun_chunks:\n",
        "  #print(chunk.text, chunk.root.text, chunk.root.dep_)"
      ],
      "execution_count": null,
      "outputs": []
    },
    {
      "cell_type": "code",
      "metadata": {
        "id": "1j1tEM5Pz0Kr"
      },
      "source": [
        "#spacy.explain('nsubj')\n",
        "#spacy.explain('pobj')"
      ],
      "execution_count": 21,
      "outputs": []
    },
    {
      "cell_type": "markdown",
      "metadata": {
        "id": "TnXpdQin9WcA"
      },
      "source": [
        "###Named Entity Recognition"
      ]
    },
    {
      "cell_type": "code",
      "metadata": {
        "id": "qRxyVi6ez0QI"
      },
      "source": [
        "#for ent in doc.ents:\n",
        "  #print(ent.text, ent.label_)"
      ],
      "execution_count": 20,
      "outputs": []
    },
    {
      "cell_type": "markdown",
      "metadata": {
        "id": "PKF9Kx7GE88i"
      },
      "source": [
        "#Sentence segmentation"
      ]
    },
    {
      "cell_type": "code",
      "metadata": {
        "id": "CHAyF5ZccRyI"
      },
      "source": [
        "def get_sentence (x):\n",
        "  '''\n",
        "  Define function that dectect the sentence boudary:\n",
        "  '''\n",
        "  doc = nlp(x)\n",
        "  for sent in doc.sents:\n",
        "    print(sent)\n",
        "  return sent\n"
      ],
      "execution_count": 12,
      "outputs": []
    },
    {
      "cell_type": "markdown",
      "metadata": {
        "id": "jSnmevnvtfw5"
      },
      "source": [
        "#Part of speech tagging\n",
        "## Is the process of marking up a word in a text (corpus) as corresponding to a particular part of speech, based on both its definition and its context."
      ]
    },
    {
      "cell_type": "markdown",
      "metadata": {
        "id": "rcutg4XzUO2p"
      },
      "source": [
        "###Part of Speech tagging : visualization"
      ]
    },
    {
      "cell_type": "code",
      "metadata": {
        "id": "JWQpiflLTER0"
      },
      "source": [
        "from spacy import displacy"
      ],
      "execution_count": 13,
      "outputs": []
    },
    {
      "cell_type": "code",
      "metadata": {
        "colab": {
          "base_uri": "https://localhost:8080/",
          "height": 441
        },
        "id": "BvXtJRHKTEW5",
        "outputId": "f71f2b47-2ec5-49a3-d8e8-53a27d1b1bb1"
      },
      "source": [
        "doc1=nlp_pipeline(\"a big guy like you needs to stand up for himself\")\n",
        "displacy.render(doc1, style = 'dep', jupyter=True)"
      ],
      "execution_count": 14,
      "outputs": [
        {
          "output_type": "display_data",
          "data": {
            "text/html": [
              "<span class=\"tex2jax_ignore\"><svg xmlns=\"http://www.w3.org/2000/svg\" xmlns:xlink=\"http://www.w3.org/1999/xlink\" xml:lang=\"en\" id=\"f2cbd4dfe243460e97f850df9af4e1ef-0\" class=\"displacy\" width=\"1975\" height=\"399.5\" direction=\"ltr\" style=\"max-width: none; height: 399.5px; color: #000000; background: #ffffff; font-family: Arial; direction: ltr\">\n",
              "<text class=\"displacy-token\" fill=\"currentColor\" text-anchor=\"middle\" y=\"309.5\">\n",
              "    <tspan class=\"displacy-word\" fill=\"currentColor\" x=\"50\">a</tspan>\n",
              "    <tspan class=\"displacy-tag\" dy=\"2em\" fill=\"currentColor\" x=\"50\">DET</tspan>\n",
              "</text>\n",
              "\n",
              "<text class=\"displacy-token\" fill=\"currentColor\" text-anchor=\"middle\" y=\"309.5\">\n",
              "    <tspan class=\"displacy-word\" fill=\"currentColor\" x=\"225\">big</tspan>\n",
              "    <tspan class=\"displacy-tag\" dy=\"2em\" fill=\"currentColor\" x=\"225\">ADJ</tspan>\n",
              "</text>\n",
              "\n",
              "<text class=\"displacy-token\" fill=\"currentColor\" text-anchor=\"middle\" y=\"309.5\">\n",
              "    <tspan class=\"displacy-word\" fill=\"currentColor\" x=\"400\">guy</tspan>\n",
              "    <tspan class=\"displacy-tag\" dy=\"2em\" fill=\"currentColor\" x=\"400\">NOUN</tspan>\n",
              "</text>\n",
              "\n",
              "<text class=\"displacy-token\" fill=\"currentColor\" text-anchor=\"middle\" y=\"309.5\">\n",
              "    <tspan class=\"displacy-word\" fill=\"currentColor\" x=\"575\">like</tspan>\n",
              "    <tspan class=\"displacy-tag\" dy=\"2em\" fill=\"currentColor\" x=\"575\">SCONJ</tspan>\n",
              "</text>\n",
              "\n",
              "<text class=\"displacy-token\" fill=\"currentColor\" text-anchor=\"middle\" y=\"309.5\">\n",
              "    <tspan class=\"displacy-word\" fill=\"currentColor\" x=\"750\">you</tspan>\n",
              "    <tspan class=\"displacy-tag\" dy=\"2em\" fill=\"currentColor\" x=\"750\">PRON</tspan>\n",
              "</text>\n",
              "\n",
              "<text class=\"displacy-token\" fill=\"currentColor\" text-anchor=\"middle\" y=\"309.5\">\n",
              "    <tspan class=\"displacy-word\" fill=\"currentColor\" x=\"925\">needs</tspan>\n",
              "    <tspan class=\"displacy-tag\" dy=\"2em\" fill=\"currentColor\" x=\"925\">VERB</tspan>\n",
              "</text>\n",
              "\n",
              "<text class=\"displacy-token\" fill=\"currentColor\" text-anchor=\"middle\" y=\"309.5\">\n",
              "    <tspan class=\"displacy-word\" fill=\"currentColor\" x=\"1100\">to</tspan>\n",
              "    <tspan class=\"displacy-tag\" dy=\"2em\" fill=\"currentColor\" x=\"1100\">PART</tspan>\n",
              "</text>\n",
              "\n",
              "<text class=\"displacy-token\" fill=\"currentColor\" text-anchor=\"middle\" y=\"309.5\">\n",
              "    <tspan class=\"displacy-word\" fill=\"currentColor\" x=\"1275\">stand</tspan>\n",
              "    <tspan class=\"displacy-tag\" dy=\"2em\" fill=\"currentColor\" x=\"1275\">VERB</tspan>\n",
              "</text>\n",
              "\n",
              "<text class=\"displacy-token\" fill=\"currentColor\" text-anchor=\"middle\" y=\"309.5\">\n",
              "    <tspan class=\"displacy-word\" fill=\"currentColor\" x=\"1450\">up</tspan>\n",
              "    <tspan class=\"displacy-tag\" dy=\"2em\" fill=\"currentColor\" x=\"1450\">ADP</tspan>\n",
              "</text>\n",
              "\n",
              "<text class=\"displacy-token\" fill=\"currentColor\" text-anchor=\"middle\" y=\"309.5\">\n",
              "    <tspan class=\"displacy-word\" fill=\"currentColor\" x=\"1625\">for</tspan>\n",
              "    <tspan class=\"displacy-tag\" dy=\"2em\" fill=\"currentColor\" x=\"1625\">ADP</tspan>\n",
              "</text>\n",
              "\n",
              "<text class=\"displacy-token\" fill=\"currentColor\" text-anchor=\"middle\" y=\"309.5\">\n",
              "    <tspan class=\"displacy-word\" fill=\"currentColor\" x=\"1800\">himself</tspan>\n",
              "    <tspan class=\"displacy-tag\" dy=\"2em\" fill=\"currentColor\" x=\"1800\">PRON</tspan>\n",
              "</text>\n",
              "\n",
              "<g class=\"displacy-arrow\">\n",
              "    <path class=\"displacy-arc\" id=\"arrow-f2cbd4dfe243460e97f850df9af4e1ef-0-0\" stroke-width=\"2px\" d=\"M70,264.5 C70,89.5 395.0,89.5 395.0,264.5\" fill=\"none\" stroke=\"currentColor\"/>\n",
              "    <text dy=\"1.25em\" style=\"font-size: 0.8em; letter-spacing: 1px\">\n",
              "        <textPath xlink:href=\"#arrow-f2cbd4dfe243460e97f850df9af4e1ef-0-0\" class=\"displacy-label\" startOffset=\"50%\" side=\"left\" fill=\"currentColor\" text-anchor=\"middle\">det</textPath>\n",
              "    </text>\n",
              "    <path class=\"displacy-arrowhead\" d=\"M70,266.5 L62,254.5 78,254.5\" fill=\"currentColor\"/>\n",
              "</g>\n",
              "\n",
              "<g class=\"displacy-arrow\">\n",
              "    <path class=\"displacy-arc\" id=\"arrow-f2cbd4dfe243460e97f850df9af4e1ef-0-1\" stroke-width=\"2px\" d=\"M245,264.5 C245,177.0 390.0,177.0 390.0,264.5\" fill=\"none\" stroke=\"currentColor\"/>\n",
              "    <text dy=\"1.25em\" style=\"font-size: 0.8em; letter-spacing: 1px\">\n",
              "        <textPath xlink:href=\"#arrow-f2cbd4dfe243460e97f850df9af4e1ef-0-1\" class=\"displacy-label\" startOffset=\"50%\" side=\"left\" fill=\"currentColor\" text-anchor=\"middle\">amod</textPath>\n",
              "    </text>\n",
              "    <path class=\"displacy-arrowhead\" d=\"M245,266.5 L237,254.5 253,254.5\" fill=\"currentColor\"/>\n",
              "</g>\n",
              "\n",
              "<g class=\"displacy-arrow\">\n",
              "    <path class=\"displacy-arc\" id=\"arrow-f2cbd4dfe243460e97f850df9af4e1ef-0-2\" stroke-width=\"2px\" d=\"M595,264.5 C595,89.5 920.0,89.5 920.0,264.5\" fill=\"none\" stroke=\"currentColor\"/>\n",
              "    <text dy=\"1.25em\" style=\"font-size: 0.8em; letter-spacing: 1px\">\n",
              "        <textPath xlink:href=\"#arrow-f2cbd4dfe243460e97f850df9af4e1ef-0-2\" class=\"displacy-label\" startOffset=\"50%\" side=\"left\" fill=\"currentColor\" text-anchor=\"middle\">mark</textPath>\n",
              "    </text>\n",
              "    <path class=\"displacy-arrowhead\" d=\"M595,266.5 L587,254.5 603,254.5\" fill=\"currentColor\"/>\n",
              "</g>\n",
              "\n",
              "<g class=\"displacy-arrow\">\n",
              "    <path class=\"displacy-arc\" id=\"arrow-f2cbd4dfe243460e97f850df9af4e1ef-0-3\" stroke-width=\"2px\" d=\"M770,264.5 C770,177.0 915.0,177.0 915.0,264.5\" fill=\"none\" stroke=\"currentColor\"/>\n",
              "    <text dy=\"1.25em\" style=\"font-size: 0.8em; letter-spacing: 1px\">\n",
              "        <textPath xlink:href=\"#arrow-f2cbd4dfe243460e97f850df9af4e1ef-0-3\" class=\"displacy-label\" startOffset=\"50%\" side=\"left\" fill=\"currentColor\" text-anchor=\"middle\">nsubj</textPath>\n",
              "    </text>\n",
              "    <path class=\"displacy-arrowhead\" d=\"M770,266.5 L762,254.5 778,254.5\" fill=\"currentColor\"/>\n",
              "</g>\n",
              "\n",
              "<g class=\"displacy-arrow\">\n",
              "    <path class=\"displacy-arc\" id=\"arrow-f2cbd4dfe243460e97f850df9af4e1ef-0-4\" stroke-width=\"2px\" d=\"M420,264.5 C420,2.0 925.0,2.0 925.0,264.5\" fill=\"none\" stroke=\"currentColor\"/>\n",
              "    <text dy=\"1.25em\" style=\"font-size: 0.8em; letter-spacing: 1px\">\n",
              "        <textPath xlink:href=\"#arrow-f2cbd4dfe243460e97f850df9af4e1ef-0-4\" class=\"displacy-label\" startOffset=\"50%\" side=\"left\" fill=\"currentColor\" text-anchor=\"middle\">advcl</textPath>\n",
              "    </text>\n",
              "    <path class=\"displacy-arrowhead\" d=\"M925.0,266.5 L933.0,254.5 917.0,254.5\" fill=\"currentColor\"/>\n",
              "</g>\n",
              "\n",
              "<g class=\"displacy-arrow\">\n",
              "    <path class=\"displacy-arc\" id=\"arrow-f2cbd4dfe243460e97f850df9af4e1ef-0-5\" stroke-width=\"2px\" d=\"M1120,264.5 C1120,177.0 1265.0,177.0 1265.0,264.5\" fill=\"none\" stroke=\"currentColor\"/>\n",
              "    <text dy=\"1.25em\" style=\"font-size: 0.8em; letter-spacing: 1px\">\n",
              "        <textPath xlink:href=\"#arrow-f2cbd4dfe243460e97f850df9af4e1ef-0-5\" class=\"displacy-label\" startOffset=\"50%\" side=\"left\" fill=\"currentColor\" text-anchor=\"middle\">aux</textPath>\n",
              "    </text>\n",
              "    <path class=\"displacy-arrowhead\" d=\"M1120,266.5 L1112,254.5 1128,254.5\" fill=\"currentColor\"/>\n",
              "</g>\n",
              "\n",
              "<g class=\"displacy-arrow\">\n",
              "    <path class=\"displacy-arc\" id=\"arrow-f2cbd4dfe243460e97f850df9af4e1ef-0-6\" stroke-width=\"2px\" d=\"M945,264.5 C945,89.5 1270.0,89.5 1270.0,264.5\" fill=\"none\" stroke=\"currentColor\"/>\n",
              "    <text dy=\"1.25em\" style=\"font-size: 0.8em; letter-spacing: 1px\">\n",
              "        <textPath xlink:href=\"#arrow-f2cbd4dfe243460e97f850df9af4e1ef-0-6\" class=\"displacy-label\" startOffset=\"50%\" side=\"left\" fill=\"currentColor\" text-anchor=\"middle\">xcomp</textPath>\n",
              "    </text>\n",
              "    <path class=\"displacy-arrowhead\" d=\"M1270.0,266.5 L1278.0,254.5 1262.0,254.5\" fill=\"currentColor\"/>\n",
              "</g>\n",
              "\n",
              "<g class=\"displacy-arrow\">\n",
              "    <path class=\"displacy-arc\" id=\"arrow-f2cbd4dfe243460e97f850df9af4e1ef-0-7\" stroke-width=\"2px\" d=\"M1295,264.5 C1295,177.0 1440.0,177.0 1440.0,264.5\" fill=\"none\" stroke=\"currentColor\"/>\n",
              "    <text dy=\"1.25em\" style=\"font-size: 0.8em; letter-spacing: 1px\">\n",
              "        <textPath xlink:href=\"#arrow-f2cbd4dfe243460e97f850df9af4e1ef-0-7\" class=\"displacy-label\" startOffset=\"50%\" side=\"left\" fill=\"currentColor\" text-anchor=\"middle\">prt</textPath>\n",
              "    </text>\n",
              "    <path class=\"displacy-arrowhead\" d=\"M1440.0,266.5 L1448.0,254.5 1432.0,254.5\" fill=\"currentColor\"/>\n",
              "</g>\n",
              "\n",
              "<g class=\"displacy-arrow\">\n",
              "    <path class=\"displacy-arc\" id=\"arrow-f2cbd4dfe243460e97f850df9af4e1ef-0-8\" stroke-width=\"2px\" d=\"M1295,264.5 C1295,89.5 1620.0,89.5 1620.0,264.5\" fill=\"none\" stroke=\"currentColor\"/>\n",
              "    <text dy=\"1.25em\" style=\"font-size: 0.8em; letter-spacing: 1px\">\n",
              "        <textPath xlink:href=\"#arrow-f2cbd4dfe243460e97f850df9af4e1ef-0-8\" class=\"displacy-label\" startOffset=\"50%\" side=\"left\" fill=\"currentColor\" text-anchor=\"middle\">prep</textPath>\n",
              "    </text>\n",
              "    <path class=\"displacy-arrowhead\" d=\"M1620.0,266.5 L1628.0,254.5 1612.0,254.5\" fill=\"currentColor\"/>\n",
              "</g>\n",
              "\n",
              "<g class=\"displacy-arrow\">\n",
              "    <path class=\"displacy-arc\" id=\"arrow-f2cbd4dfe243460e97f850df9af4e1ef-0-9\" stroke-width=\"2px\" d=\"M1645,264.5 C1645,177.0 1790.0,177.0 1790.0,264.5\" fill=\"none\" stroke=\"currentColor\"/>\n",
              "    <text dy=\"1.25em\" style=\"font-size: 0.8em; letter-spacing: 1px\">\n",
              "        <textPath xlink:href=\"#arrow-f2cbd4dfe243460e97f850df9af4e1ef-0-9\" class=\"displacy-label\" startOffset=\"50%\" side=\"left\" fill=\"currentColor\" text-anchor=\"middle\">pobj</textPath>\n",
              "    </text>\n",
              "    <path class=\"displacy-arrowhead\" d=\"M1790.0,266.5 L1798.0,254.5 1782.0,254.5\" fill=\"currentColor\"/>\n",
              "</g>\n",
              "</svg></span>"
            ],
            "text/plain": [
              "<IPython.core.display.HTML object>"
            ]
          },
          "metadata": {}
        }
      ]
    },
    {
      "cell_type": "markdown",
      "metadata": {
        "id": "Mdhlg-OT5tZ0"
      },
      "source": [
        "#Chunking: \n",
        "The chunking process is used of extracting noun phrases from the text. Think of noun phrase (or noun chunks in Spacy) as the noun plus the words describing the noun."
      ]
    },
    {
      "cell_type": "code",
      "metadata": {
        "colab": {
          "base_uri": "https://localhost:8080/"
        },
        "id": "lZZZ_88765RV",
        "outputId": "81dff7d6-dff9-43e3-8051-3319f93d1445"
      },
      "source": [
        "#to illustrate how chunking is important take the example of the word \"combined\": ot was tokonized as a verb\n",
        "#but here it is assigned to its real function in sentnece ==> object of preposition\n",
        "doc3=nlp_pipeline(\"a study examined the effects of combined nvc and mindfulness training on male inmates of the monroe correctional complex in monroe washington\")\n",
        "print(doc3, \":\")\n",
        "print(\"**********\")\n",
        "for chunk in doc3.noun_chunks:\n",
        "    print(chunk.text,  \"|\", spacy.explain(chunk.root.dep_))"
      ],
      "execution_count": 15,
      "outputs": [
        {
          "output_type": "stream",
          "name": "stdout",
          "text": [
            "a study examined the effects of combined nvc and mindfulness training on male inmates of the monroe correctional complex in monroe washington :\n",
            "**********\n",
            "a study | nominal subject\n",
            "the effects | direct object\n",
            "combined nvc | object of preposition\n",
            "mindfulness training | conjunct\n",
            "male inmates | object of preposition\n",
            "the monroe correctional complex | object of preposition\n",
            "monroe washington | object of preposition\n"
          ]
        }
      ]
    },
    {
      "cell_type": "code",
      "metadata": {
        "id": "KEPWTIewP3Yd"
      },
      "source": [
        "def get_subject_phrase(doc):\n",
        "  '''\n",
        "  function that extrat the subject of phrase:\n",
        "  '''\n",
        "  for token in doc:\n",
        "    if (\"subj\" in token.dep_):\n",
        "      subtree = list(token.subtree)\n",
        "      start = subtree[0].i\n",
        "      end = subtree[-1].i + 1\n",
        "      return doc[start:end]"
      ],
      "execution_count": 16,
      "outputs": []
    },
    {
      "cell_type": "code",
      "metadata": {
        "id": "pBM_-gxZP3VR"
      },
      "source": [
        "def get_object_phrase(doc):\n",
        "  '''\n",
        "  function that extract object of phrase:\n",
        "  '''\n",
        "  for token in doc:\n",
        "    if (\"dobj\" in token.dep_):\n",
        "      subtree = list(token.subtree)\n",
        "      start = subtree[0].i\n",
        "      end = subtree[-1].i + 1\n",
        "      return doc[start:end]"
      ],
      "execution_count": 17,
      "outputs": []
    },
    {
      "cell_type": "markdown",
      "metadata": {
        "id": "BMwG-2wjfv_7"
      },
      "source": [
        "#Function that detects sentence boundary and split the sentence to its verbal untis: Subject - Verb - Object"
      ]
    },
    {
      "cell_type": "code",
      "metadata": {
        "id": "mmnqwgNp6FsQ"
      },
      "source": [
        "def verbal_unit (x):\n",
        "  '''\n",
        "  Build a function that return subject verb and object\n",
        "  '''\n",
        "  ls=[]\n",
        "  doc=nlp(x)\n",
        "  subject_phrase = get_subject_phrase(doc)\n",
        "  subj_phrase = str(subject_phrase)\n",
        "  verb_phrase0=x.replace(subj_phrase,'')\n",
        "  object_phrase = get_object_phrase(doc)\n",
        "  obj_phrase = str(object_phrase)\n",
        "  verb_phrase1=verb_phrase0.replace(obj_phrase,'')\n",
        "  ls=[subj_phrase,verb_phrase1,obj_phrase]\n",
        "  return(ls)"
      ],
      "execution_count": 18,
      "outputs": []
    },
    {
      "cell_type": "code",
      "metadata": {
        "id": "AdfTg38eVN4T"
      },
      "source": [
        "# Example I took a comlpex and long sentence from the data set\n",
        "# verbal_unit(\"a study examined the effects of combined nvc and mindfulness training on male inmates of the monroe correctional complex in monroe washington\")"
      ],
      "execution_count": 35,
      "outputs": []
    },
    {
      "cell_type": "code",
      "metadata": {
        "id": "eR9eflU_inQw",
        "colab": {
          "base_uri": "https://localhost:8080/",
          "height": 419
        },
        "outputId": "ffc9e487-4dbb-48f8-9591-f29db063340b"
      },
      "source": [
        "df['Verbal_units']=df['text'].apply(verbal_unit)\n",
        "df\n",
        " \n"
      ],
      "execution_count": 19,
      "outputs": [
        {
          "output_type": "execute_result",
          "data": {
            "text/html": [
              "<div>\n",
              "<style scoped>\n",
              "    .dataframe tbody tr th:only-of-type {\n",
              "        vertical-align: middle;\n",
              "    }\n",
              "\n",
              "    .dataframe tbody tr th {\n",
              "        vertical-align: top;\n",
              "    }\n",
              "\n",
              "    .dataframe thead th {\n",
              "        text-align: right;\n",
              "    }\n",
              "</style>\n",
              "<table border=\"1\" class=\"dataframe\">\n",
              "  <thead>\n",
              "    <tr style=\"text-align: right;\">\n",
              "      <th></th>\n",
              "      <th>text</th>\n",
              "      <th>rating</th>\n",
              "      <th>label</th>\n",
              "      <th>pipeline</th>\n",
              "      <th>Verbal_units</th>\n",
              "    </tr>\n",
              "  </thead>\n",
              "  <tbody>\n",
              "    <tr>\n",
              "      <th>0</th>\n",
              "      <td>sperms and you won</td>\n",
              "      <td>0</td>\n",
              "      <td>0</td>\n",
              "      <td>(sperms, and, you, won)</td>\n",
              "      <td>[you, sperms and  won, None]</td>\n",
              "    </tr>\n",
              "    <tr>\n",
              "      <th>1</th>\n",
              "      <td>a study examined the effects of combined nvc a...</td>\n",
              "      <td>4</td>\n",
              "      <td>1</td>\n",
              "      <td>(a, study, examined, the, effects, of, combine...</td>\n",
              "      <td>[a study,  examined , the effects of combined ...</td>\n",
              "    </tr>\n",
              "    <tr>\n",
              "      <th>2</th>\n",
              "      <td>a big guy like you needs to stand up for himself</td>\n",
              "      <td>1</td>\n",
              "      <td>0</td>\n",
              "      <td>(a, big, guy, like, you, needs, to, stand, up,...</td>\n",
              "      <td>[you, a big guy like  needs to stand up for hi...</td>\n",
              "    </tr>\n",
              "    <tr>\n",
              "      <th>3</th>\n",
              "      <td>a cheetah the fastest land animal can run mile...</td>\n",
              "      <td>4</td>\n",
              "      <td>1</td>\n",
              "      <td>(a, cheetah, the, fastest, land, animal, can, ...</td>\n",
              "      <td>[a cheetah,  the fastest land animal can run ,...</td>\n",
              "    </tr>\n",
              "    <tr>\n",
              "      <th>4</th>\n",
              "      <td>a combination of words that makes sense is cal...</td>\n",
              "      <td>4</td>\n",
              "      <td>1</td>\n",
              "      <td>(a, combination, of, words, that, makes, sense...</td>\n",
              "      <td>[a combination of words that makes sense,  is ...</td>\n",
              "    </tr>\n",
              "    <tr>\n",
              "      <th>...</th>\n",
              "      <td>...</td>\n",
              "      <td>...</td>\n",
              "      <td>...</td>\n",
              "      <td>...</td>\n",
              "      <td>...</td>\n",
              "    </tr>\n",
              "    <tr>\n",
              "      <th>10988</th>\n",
              "      <td>your voice is my favorite sound</td>\n",
              "      <td>4</td>\n",
              "      <td>1</td>\n",
              "      <td>(your, voice, is, my, favorite, sound)</td>\n",
              "      <td>[your voice,  is my favorite sound, None]</td>\n",
              "    </tr>\n",
              "    <tr>\n",
              "      <th>10989</th>\n",
              "      <td>your words are completely beyond your thoughts</td>\n",
              "      <td>1</td>\n",
              "      <td>0</td>\n",
              "      <td>(your, words, are, completely, beyond, your, t...</td>\n",
              "      <td>[your words,  are completely beyond your thoug...</td>\n",
              "    </tr>\n",
              "    <tr>\n",
              "      <th>10990</th>\n",
              "      <td>your words are unacceptable camille i always t...</td>\n",
              "      <td>2</td>\n",
              "      <td>0</td>\n",
              "      <td>(your, words, are, unacceptable, camille, i, a...</td>\n",
              "      <td>[your words,  are unacceptable camille i alway...</td>\n",
              "    </tr>\n",
              "    <tr>\n",
              "      <th>10991</th>\n",
              "      <td>your work reflects your dedication to the proj...</td>\n",
              "      <td>4</td>\n",
              "      <td>1</td>\n",
              "      <td>(your, work, reflects, your, dedication, to, t...</td>\n",
              "      <td>[your work,  reflects  to the project and the ...</td>\n",
              "    </tr>\n",
              "    <tr>\n",
              "      <th>10992</th>\n",
              "      <td>zombies eat brains you re safe</td>\n",
              "      <td>0</td>\n",
              "      <td>0</td>\n",
              "      <td>(zombies, eat, brains, you, re, safe)</td>\n",
              "      <td>[zombies,  eat  safe, brains you re]</td>\n",
              "    </tr>\n",
              "  </tbody>\n",
              "</table>\n",
              "<p>10993 rows × 5 columns</p>\n",
              "</div>"
            ],
            "text/plain": [
              "                                                    text  ...                                       Verbal_units\n",
              "0                                     sperms and you won  ...                       [you, sperms and  won, None]\n",
              "1      a study examined the effects of combined nvc a...  ...  [a study,  examined , the effects of combined ...\n",
              "2       a big guy like you needs to stand up for himself  ...  [you, a big guy like  needs to stand up for hi...\n",
              "3      a cheetah the fastest land animal can run mile...  ...  [a cheetah,  the fastest land animal can run ,...\n",
              "4      a combination of words that makes sense is cal...  ...  [a combination of words that makes sense,  is ...\n",
              "...                                                  ...  ...                                                ...\n",
              "10988                    your voice is my favorite sound  ...          [your voice,  is my favorite sound, None]\n",
              "10989     your words are completely beyond your thoughts  ...  [your words,  are completely beyond your thoug...\n",
              "10990  your words are unacceptable camille i always t...  ...  [your words,  are unacceptable camille i alway...\n",
              "10991  your work reflects your dedication to the proj...  ...  [your work,  reflects  to the project and the ...\n",
              "10992                     zombies eat brains you re safe  ...               [zombies,  eat  safe, brains you re]\n",
              "\n",
              "[10993 rows x 5 columns]"
            ]
          },
          "metadata": {},
          "execution_count": 19
        }
      ]
    },
    {
      "cell_type": "markdown",
      "metadata": {
        "id": "sBt0nACekNx-"
      },
      "source": [
        "#Word embedding: getting a vector of each verbal unit: subject.vector / verb.vector / dobject.vector"
      ]
    },
    {
      "cell_type": "code",
      "metadata": {
        "id": "PiNjxYT9-WIv"
      },
      "source": [
        "#using the spacy build-in word embedding function \"\".vector\" it is by default provides 300-dimensional vector\n",
        "def get_vector(x):\n",
        "  ls=[]\n",
        "  doc=nlp_pipeline(x)\n",
        "  subject_phrase = get_subject_phrase(doc)\n",
        "  subject_vector= subject_phrase.vector\n",
        "  subj_phrase = str(subject_phrase)\n",
        "  verb_phrase0=x.replace(subj_phrase,'')\n",
        "  object_phrase = get_object_phrase(doc)\n",
        "  object_vector = object_phrase.vector\n",
        "  obj_phrase = str(object_phrase)\n",
        "  verb_phrase1=verb_phrase0.replace(obj_phrase,'')\n",
        "  verbal_vector=nlp(verb_phrase1).vector\n",
        "  ls=[subject_vector,verbal_vector,object_vector]\n",
        "  return(ls)"
      ],
      "execution_count": 20,
      "outputs": []
    },
    {
      "cell_type": "code",
      "metadata": {
        "id": "O8r0bQqiinaw"
      },
      "source": [
        "#Example\n",
        "#get_vector(\"a study examined the effects of combined nvc and mindfulness training on male inmates of the monroe correctional complex in monroe washington\")\n",
        "#we will get an array of array: an array of 3 vectors (subject, verb an object)"
      ],
      "execution_count": 38,
      "outputs": []
    },
    {
      "cell_type": "code",
      "metadata": {
        "id": "CdIg-PXR97c_"
      },
      "source": [
        "from sklearn.model_selection import train_test_split"
      ],
      "execution_count": 21,
      "outputs": []
    },
    {
      "cell_type": "markdown",
      "metadata": {
        "id": "mvAbCadeN-Be"
      },
      "source": [
        "#Word embedding of the dataset"
      ]
    },
    {
      "cell_type": "code",
      "metadata": {
        "id": "5AZ_XCCxaM7x"
      },
      "source": [
        "def list_to_string(x):\n",
        "  char=str(x)\n",
        "  return char\n"
      ],
      "execution_count": 26,
      "outputs": []
    },
    {
      "cell_type": "code",
      "metadata": {
        "id": "68boumktaeRg"
      },
      "source": [
        "df['final_verbal_units']=df['Verbal_units'].apply(list_to_string)\n",
        "df"
      ],
      "execution_count": null,
      "outputs": []
    },
    {
      "cell_type": "code",
      "metadata": {
        "id": "DCHcq2zxcjVq"
      },
      "source": [
        "def sent_vector(x):\n",
        "  doc=nlp_pipeline(x)\n",
        "  vect=doc.vector\n",
        "  return(vect)"
      ],
      "execution_count": 29,
      "outputs": []
    },
    {
      "cell_type": "code",
      "metadata": {
        "id": "e1RWS67dZU8j"
      },
      "source": [
        "df['final_vector']=df['final_verbal_units'].apply(sent_vector)\n"
      ],
      "execution_count": 30,
      "outputs": []
    },
    {
      "cell_type": "code",
      "metadata": {
        "colab": {
          "base_uri": "https://localhost:8080/"
        },
        "id": "vUE0i1KUbSR5",
        "outputId": "4a9d7cf5-cf9d-4fe9-b3a9-781225abf3eb"
      },
      "source": [
        "df['final_vector']"
      ],
      "execution_count": 31,
      "outputs": [
        {
          "output_type": "execute_result",
          "data": {
            "text/plain": [
              "0        [-0.19325343, 0.3263942, -0.00068212557, -0.13...\n",
              "1        [-0.08044609, 0.24658439, 0.04340328, -0.10656...\n",
              "2        [-0.15276563, 0.24925642, -0.11499526, -0.0613...\n",
              "3        [-0.075149335, 0.23446524, -0.032440823, -0.09...\n",
              "4        [-0.108618304, 0.38019484, -0.06853195, -0.084...\n",
              "                               ...                        \n",
              "10988    [-0.13981268, 0.3781182, -0.079856634, -0.0635...\n",
              "10989    [-0.12480427, 0.3383462, -0.15235524, -0.04660...\n",
              "10990    [-0.14867961, 0.26880902, -0.17052336, -0.0834...\n",
              "10991    [-0.07757606, 0.24574, -0.03924551, -0.0346302...\n",
              "10992    [-0.17512763, 0.19013083, -0.06495917, -0.1648...\n",
              "Name: final_vector, Length: 10993, dtype: object"
            ]
          },
          "metadata": {},
          "execution_count": 31
        }
      ]
    },
    {
      "cell_type": "code",
      "metadata": {
        "colab": {
          "base_uri": "https://localhost:8080/"
        },
        "id": "JFD0hHWbbSOi",
        "outputId": "78d05bf2-9692-40aa-db94-115903e0c67b"
      },
      "source": [
        "df['final_vector'].shape"
      ],
      "execution_count": 58,
      "outputs": [
        {
          "output_type": "execute_result",
          "data": {
            "text/plain": [
              "(10993,)"
            ]
          },
          "metadata": {},
          "execution_count": 58
        }
      ]
    },
    {
      "cell_type": "code",
      "metadata": {
        "id": "pK1-VvkoHR3h"
      },
      "source": [
        "import numpy as np"
      ],
      "execution_count": 35,
      "outputs": []
    },
    {
      "cell_type": "code",
      "metadata": {
        "id": "bKRrwn5G64zQ",
        "colab": {
          "base_uri": "https://localhost:8080/"
        },
        "outputId": "89ce1727-e369-4a37-b755-897626941795"
      },
      "source": [
        "#convert the vector to numpy array\n",
        "x=df['final_vector'].to_numpy()\n",
        "x=x.reshape(-1,1)\n",
        "x.shape"
      ],
      "execution_count": 36,
      "outputs": [
        {
          "output_type": "execute_result",
          "data": {
            "text/plain": [
              "(10993, 1)"
            ]
          },
          "metadata": {},
          "execution_count": 36
        }
      ]
    },
    {
      "cell_type": "code",
      "metadata": {
        "id": "c2KQowz8hZks",
        "colab": {
          "base_uri": "https://localhost:8080/"
        },
        "outputId": "9ca943e3-92be-437e-82d4-7ceede93170c"
      },
      "source": [
        "# It is an array of array let's concatenate it one array and rechape it \n",
        "x=np.concatenate(np.concatenate(x, axis = 0), axis = 0).reshape(-1, 300) # this \"x=x.reshape(-1, 300) produces error\n",
        "x.shape"
      ],
      "execution_count": 37,
      "outputs": [
        {
          "output_type": "execute_result",
          "data": {
            "text/plain": [
              "(10993, 300)"
            ]
          },
          "metadata": {},
          "execution_count": 37
        }
      ]
    },
    {
      "cell_type": "code",
      "metadata": {
        "id": "VfDgo3LdhZoQ"
      },
      "source": [
        "y = df['label']"
      ],
      "execution_count": 38,
      "outputs": []
    },
    {
      "cell_type": "code",
      "metadata": {
        "id": "Ju4e4niMTEY-"
      },
      "source": [
        "x_train, x_test, y_train, y_test = train_test_split(x, y, test_size = 0.2, random_state = 0, stratify = y)"
      ],
      "execution_count": 39,
      "outputs": []
    },
    {
      "cell_type": "code",
      "metadata": {
        "colab": {
          "base_uri": "https://localhost:8080/"
        },
        "id": "uj_znMR9IrQU",
        "outputId": "842888fe-01a5-4ffb-cb2c-717ebb833907"
      },
      "source": [
        "x_train.shape, y_test.shape"
      ],
      "execution_count": 40,
      "outputs": [
        {
          "output_type": "execute_result",
          "data": {
            "text/plain": [
              "((8794, 300), (2199,))"
            ]
          },
          "metadata": {},
          "execution_count": 40
        }
      ]
    },
    {
      "cell_type": "markdown",
      "metadata": {
        "id": "GP9qI6NxI8ti"
      },
      "source": [
        "#Model trainig"
      ]
    },
    {
      "cell_type": "code",
      "metadata": {
        "id": "2gw7H2T8J3Q6"
      },
      "source": [
        "from sklearn.linear_model import LogisticRegression\n",
        "from sklearn.metrics import classification_report"
      ],
      "execution_count": 41,
      "outputs": []
    },
    {
      "cell_type": "code",
      "metadata": {
        "colab": {
          "base_uri": "https://localhost:8080/"
        },
        "id": "jOz9Hk5FIrUa",
        "outputId": "b9573f19-5c8b-4832-be74-46680e3ddf4d"
      },
      "source": [
        "model = LogisticRegression()\n",
        "model = model.fit(x_train, y_train)"
      ],
      "execution_count": 42,
      "outputs": [
        {
          "output_type": "stream",
          "name": "stderr",
          "text": [
            "/usr/local/lib/python3.7/dist-packages/sklearn/linear_model/_logistic.py:818: ConvergenceWarning: lbfgs failed to converge (status=1):\n",
            "STOP: TOTAL NO. of ITERATIONS REACHED LIMIT.\n",
            "\n",
            "Increase the number of iterations (max_iter) or scale the data as shown in:\n",
            "    https://scikit-learn.org/stable/modules/preprocessing.html\n",
            "Please also refer to the documentation for alternative solver options:\n",
            "    https://scikit-learn.org/stable/modules/linear_model.html#logistic-regression\n",
            "  extra_warning_msg=_LOGISTIC_SOLVER_CONVERGENCE_MSG,\n"
          ]
        }
      ]
    },
    {
      "cell_type": "code",
      "metadata": {
        "id": "qTpApHUAMtSX"
      },
      "source": [
        "import pickle"
      ],
      "execution_count": 43,
      "outputs": []
    },
    {
      "cell_type": "code",
      "metadata": {
        "id": "GJWT8TQAGrRG"
      },
      "source": [
        "sereniiti_w = \"sereniiti_w.pkl\" "
      ],
      "execution_count": 44,
      "outputs": []
    },
    {
      "cell_type": "code",
      "metadata": {
        "id": "lQPw1sL9GrOJ"
      },
      "source": [
        "pickle.dump(model, open('sereniiti_w', 'wb'))"
      ],
      "execution_count": 45,
      "outputs": []
    },
    {
      "cell_type": "code",
      "metadata": {
        "id": "QuX9JuWCGrLH"
      },
      "source": [
        "model = pickle.load(open('sereniiti_w', 'rb'))"
      ],
      "execution_count": 46,
      "outputs": []
    },
    {
      "cell_type": "code",
      "metadata": {
        "colab": {
          "base_uri": "https://localhost:8080/"
        },
        "id": "vm0PQQAnL4l9",
        "outputId": "8ea07def-5e37-4176-fa80-be9ae315f55c"
      },
      "source": [
        "model"
      ],
      "execution_count": 47,
      "outputs": [
        {
          "output_type": "execute_result",
          "data": {
            "text/plain": [
              "LogisticRegression()"
            ]
          },
          "metadata": {},
          "execution_count": 47
        }
      ]
    },
    {
      "cell_type": "code",
      "metadata": {
        "id": "m21BTq7oL4je"
      },
      "source": [
        "model_prediction = model.predict(x_test)"
      ],
      "execution_count": 48,
      "outputs": []
    },
    {
      "cell_type": "code",
      "metadata": {
        "colab": {
          "base_uri": "https://localhost:8080/"
        },
        "id": "CXLTko2AL4f6",
        "outputId": "99f7e604-61aa-4318-c61b-77a17a1a80f0"
      },
      "source": [
        "ex='you are really a $%bad guy'\n",
        "ex=get_clean(ex)\n",
        "vec=sent_vector(ex)\n",
        "model.predict(vec.reshape(1, -1))"
      ],
      "execution_count": 52,
      "outputs": [
        {
          "output_type": "execute_result",
          "data": {
            "text/plain": [
              "array([0])"
            ]
          },
          "metadata": {},
          "execution_count": 52
        }
      ]
    },
    {
      "cell_type": "code",
      "metadata": {
        "colab": {
          "base_uri": "https://localhost:8080/"
        },
        "id": "qn3qB9G0L4cm",
        "outputId": "a6646541-ac61-41ba-bf57-df064aa11390"
      },
      "source": [
        "ex1='oooh shit'\n",
        "ex1=get_clean(ex1)\n",
        "vec=sent_vector(ex1)\n",
        "model.predict(vec.reshape(1, -1))"
      ],
      "execution_count": 53,
      "outputs": [
        {
          "output_type": "execute_result",
          "data": {
            "text/plain": [
              "array([0])"
            ]
          },
          "metadata": {},
          "execution_count": 53
        }
      ]
    },
    {
      "cell_type": "code",
      "metadata": {
        "colab": {
          "base_uri": "https://localhost:8080/"
        },
        "id": "fe1QYallMqBl",
        "outputId": "cc15a6f8-37db-464e-f13e-cd619efe02cb"
      },
      "source": [
        "ex1='I like that'\n",
        "ex1=get_clean(ex1)\n",
        "vec=sent_vector(ex1)\n",
        "model.predict(vec.reshape(1, -1))"
      ],
      "execution_count": 54,
      "outputs": [
        {
          "output_type": "execute_result",
          "data": {
            "text/plain": [
              "array([1])"
            ]
          },
          "metadata": {},
          "execution_count": 54
        }
      ]
    },
    {
      "cell_type": "code",
      "metadata": {
        "id": "lBzMwfBfMp8T"
      },
      "source": [
        "from sklearn.metrics import mean_squared_error"
      ],
      "execution_count": 55,
      "outputs": []
    },
    {
      "cell_type": "markdown",
      "metadata": {
        "id": "HYgCVIQbT243"
      },
      "source": [
        "# Model Evaluation:Metrics"
      ]
    },
    {
      "cell_type": "code",
      "metadata": {
        "colab": {
          "base_uri": "https://localhost:8080/"
        },
        "id": "psGsxPN4Mp1b",
        "outputId": "d29f8354-20e1-4f48-b39a-ac67e619476d"
      },
      "source": [
        "# Mean Square Error\n",
        "print(mean_squared_error(y_test, model_prediction))"
      ],
      "execution_count": 56,
      "outputs": [
        {
          "output_type": "stream",
          "name": "stdout",
          "text": [
            "0.14688494770350158\n"
          ]
        }
      ]
    },
    {
      "cell_type": "code",
      "metadata": {
        "colab": {
          "base_uri": "https://localhost:8080/"
        },
        "id": "s-seXoDmUG5v",
        "outputId": "23544a3c-79f5-4095-c78a-3b9e95c509f1"
      },
      "source": [
        "# Accuracy\n",
        "print(classification_report(y_test, model_prediction))"
      ],
      "execution_count": 57,
      "outputs": [
        {
          "output_type": "stream",
          "name": "stdout",
          "text": [
            "              precision    recall  f1-score   support\n",
            "\n",
            "           0       0.86      0.86      0.86      1143\n",
            "           1       0.85      0.84      0.85      1056\n",
            "\n",
            "    accuracy                           0.85      2199\n",
            "   macro avg       0.85      0.85      0.85      2199\n",
            "weighted avg       0.85      0.85      0.85      2199\n",
            "\n"
          ]
        }
      ]
    },
    {
      "cell_type": "code",
      "metadata": {
        "id": "Z2s6q-AcUY_9"
      },
      "source": [
        ""
      ],
      "execution_count": 59,
      "outputs": []
    },
    {
      "cell_type": "code",
      "metadata": {
        "id": "m8BKLFFvUY2e"
      },
      "source": [
        ""
      ],
      "execution_count": null,
      "outputs": []
    },
    {
      "cell_type": "code",
      "metadata": {
        "id": "t3rkibq8fBb1"
      },
      "source": [
        ""
      ],
      "execution_count": null,
      "outputs": []
    }
  ]
}